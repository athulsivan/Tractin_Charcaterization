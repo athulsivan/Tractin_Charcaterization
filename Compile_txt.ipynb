{
 "cells": [
  {
   "cell_type": "code",
   "execution_count": 1,
   "id": "e63a8d7a-68a6-490c-a8c6-9abbfa59af1a",
   "metadata": {
    "tags": []
   },
   "outputs": [
    {
     "data": {
      "text/plain": [
       "'/home/a/a_siva04/Experiements/Tractin_Experiments/FRAP'"
      ]
     },
     "execution_count": 1,
     "metadata": {},
     "output_type": "execute_result"
    }
   ],
   "source": [
    "pwd"
   ]
  },
  {
   "cell_type": "code",
   "execution_count": 10,
   "id": "e101cc6f-e856-4e2c-b776-cba1e6749805",
   "metadata": {
    "tags": []
   },
   "outputs": [],
   "source": [
    "import os\n",
    "\n",
    "# Function to iterate through subfolders and find text files\n",
    "def process_files(root_folder):\n",
    "    for root, dirs, files in os.walk(root_folder):\n",
    "        for file in files:\n",
    "            if file.endswith('.txt'):\n",
    "                file_path = os.path.join(root, file)\n",
    "                add_filename_column(file_path)\n",
    "\n",
    "# Function to add filename as a third column to the text file\n",
    "def add_filename_column(file_path):\n",
    "    filename = os.path.splitext(os.path.basename(file_path))[0]  # Extract filename without extension\n",
    "    with open(file_path, 'r') as f:\n",
    "        lines = f.readlines()\n",
    "    with open(file_path, 'w') as f:\n",
    "        for line in lines:\n",
    "            f.write(line.strip() + '\\t' + filename + '\\n')\n",
    "\n",
    "# Example usage\n",
    "root_folder = '/home/a/a_siva04/Cloud_Data/Wedlich-Söldner/Athul/Analysis_New/Tractin_Truncations/FRAP/Experiment_3'\n",
    "process_files(root_folder)\n"
   ]
  },
  {
   "cell_type": "code",
   "execution_count": 18,
   "id": "360340b3-23d6-4f4a-8c62-53ee6295f7f3",
   "metadata": {
    "tags": []
   },
   "outputs": [],
   "source": [
    "import os\n",
    "import pandas as pd\n",
    "\n",
    "# Function to iterate through subfolders and find text files\n",
    "def process_files(root_folder):\n",
    "    all_data = []  # List to store data from all text files\n",
    "    for root, dirs, files in os.walk(root_folder):\n",
    "        for file in files:\n",
    "            if file.endswith('.txt'):\n",
    "                file_path = os.path.join(root, file)\n",
    "                all_data.extend(read_text_file(file_path))\n",
    "    df = pd.DataFrame(all_data)  # Creating DataFrame without column names\n",
    "    df.to_csv('/home/a/a_siva04/Cloud_Data/Wedlich-Söldner/Athul/Analysis_New/Tractin_Truncations/FRAP/Data/Compiled.csv', index=False, header=False)  # Writing DataFrame to CSV file without headers\n",
    "\n",
    "# Function to read data from text file and add filename as third column\n",
    "def read_text_file(file_path):\n",
    "    filename = os.path.splitext(os.path.basename(file_path))[0]  # Extract filename without extension\n",
    "    data = []\n",
    "    with open(file_path, 'r') as f:\n",
    "        lines = f.readlines()\n",
    "        for line in lines:\n",
    "            data.append((line.strip(), filename))  # Appending each row with filename\n",
    "    return data\n",
    "\n",
    "# Example usage\n",
    "root_folder = '/home/a/a_siva04/Cloud_Data/Wedlich-Söldner/Athul/Analysis_New/Tractin_Truncations/FRAP/'\n",
    "process_files(root_folder)\n"
   ]
  },
  {
   "cell_type": "code",
   "execution_count": null,
   "id": "9b74594f-cb3f-4bfa-8d29-5211d0680af6",
   "metadata": {},
   "outputs": [],
   "source": []
  }
 ],
 "metadata": {
  "kernelspec": {
   "display_name": "Python 3 (ipykernel)",
   "language": "python",
   "name": "python3"
  },
  "language_info": {
   "codemirror_mode": {
    "name": "ipython",
    "version": 3
   },
   "file_extension": ".py",
   "mimetype": "text/x-python",
   "name": "python",
   "nbconvert_exporter": "python",
   "pygments_lexer": "ipython3",
   "version": "3.10.13"
  }
 },
 "nbformat": 4,
 "nbformat_minor": 5
}
