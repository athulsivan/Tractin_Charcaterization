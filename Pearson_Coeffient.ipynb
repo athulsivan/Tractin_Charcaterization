{
 "cells": [
  {
   "cell_type": "code",
   "execution_count": 5,
   "id": "fb248793-ff9c-4d10-895c-bf40f26f56fd",
   "metadata": {
    "tags": []
   },
   "outputs": [],
   "source": [
    "# Paths to the folders\n",
    "folder1_path = \"/home/a/a_siva04/Cloud_Data/Wedlich-Söldner/Athul/Analysis_New/Masks and Images/Green/\"\n",
    "folder2_path = \"/home/a/a_siva04/Cloud_Data/Wedlich-Söldner/Athul/Analysis_New//Masks and Images/Red/\"\n",
    "folder3_path = \"/home/a/a_siva04/Cloud_Data/Wedlich-Söldner/Athul/Analysis_New//Masks and Images/Green_Masks/\"\n",
    " \n",
    "# Output CSV file\n",
    "output_csv = \"/home/a/a_siva04/Cloud_Data/Wedlich-Söldner/Athul/Analysis_New//Pearson/output_repeated.csv\"\n",
    "\n",
    "\n"
   ]
  },
  {
   "cell_type": "code",
   "execution_count": 6,
   "id": "a2722422-7760-4414-a1a5-15555aa99e29",
   "metadata": {
    "tags": []
   },
   "outputs": [
    {
     "name": "stdout",
     "output_type": "stream",
     "text": [
      "Files don't match for /home/a/a_siva04/Cloud_Data/Wedlich-Söldner/Athul/Analysis_New/MorphoQuant/U2OS/60X/Masks and Images/Green/2LA10rg_E1_F2/2LA10rg_E1_F2_4.tif\n"
     ]
    }
   ],
   "source": [
    "import cv2\n",
    "import numpy as np\n",
    "from scipy.stats import pearsonr\n",
    "import os\n",
    "import csv\n",
    "\n",
    "def calculate_pearson_correlation(image1, image2, mask):\n",
    "    # Apply mask to images\n",
    "    image1_masked = cv2.bitwise_and(image1, mask)\n",
    "    image2_masked = cv2.bitwise_and(image2, mask)\n",
    "    \n",
    "    # Flatten the images\n",
    "    flat_image1 = image1_masked.flatten()\n",
    "    flat_image2 = image2_masked.flatten()\n",
    "    \n",
    "    # Check if any input array is constant\n",
    "    if np.all(flat_image1 == flat_image1[0]) or np.all(flat_image2 == flat_image2[0]):\n",
    "        return None  # Return None if any input array is constant\n",
    "    \n",
    "    # Calculate Pearson correlation coefficient\n",
    "    correlation_coefficient, _ = pearsonr(flat_image1, flat_image2)\n",
    "    \n",
    "    return correlation_coefficient\n",
    "\n",
    "def find_identical_files(folder1_dir, folder2_dir, folder3_dir, output_csv):\n",
    "    with open(output_csv, 'w', newline='') as csvfile:\n",
    "        writer = csv.writer(csvfile)\n",
    "        writer.writerow(['Filename', 'Pearson Coefficient'])\n",
    "        \n",
    "        for root, _, files in os.walk(folder1_dir):\n",
    "            for folder1_file in files:\n",
    "                if folder1_file.endswith('.tif'):\n",
    "                    folder1_file_path = os.path.join(root, folder1_file)\n",
    "                    folder2_file_path = os.path.join(folder2_dir, os.path.basename(os.path.dirname(folder1_file_path)), folder1_file)\n",
    "                    folder3_file_path = os.path.join(folder3_dir, os.path.basename(os.path.dirname(folder1_file_path)), folder1_file)\n",
    "                    \n",
    "                    if os.path.isfile(folder2_file_path) and os.path.isfile(folder3_file_path):\n",
    "                        # Read images\n",
    "                        image1 = cv2.imread(folder1_file_path, cv2.IMREAD_GRAYSCALE)\n",
    "                        image2 = cv2.imread(folder2_file_path, cv2.IMREAD_GRAYSCALE)\n",
    "                        mask = cv2.imread(folder3_file_path, cv2.IMREAD_GRAYSCALE)\n",
    "                        \n",
    "                        # Ensure images are of same dimensions\n",
    "                        if image1.shape == image2.shape == mask.shape:\n",
    "                            # Calculate Pearson correlation coefficient\n",
    "                            correlation_coefficient = calculate_pearson_correlation(image1, image2, mask)\n",
    "                            if correlation_coefficient is not None:\n",
    "                                # Write to CSV\n",
    "                                writer.writerow([folder1_file_path, correlation_coefficient])\n",
    "                            else:\n",
    "                                print(f\"Skipping {folder1_file_path}: Constant image(s)\")\n",
    "                        else:\n",
    "                            print(f\"Skipping {folder1_file_path}: Dimensions do not match\")\n",
    "                    else:\n",
    "                        print(f\"Files don't match for {folder1_file_path}\")\n",
    "\n",
    "# # Paths to the folders\n",
    "# folder1_path = \"/path/to/folder1\"\n",
    "# folder2_path = \"/path/to/folder2\"\n",
    "# folder3_path = \"/path/to/folder3\"\n",
    "\n",
    "# # Output CSV file\n",
    "# output_csv = \"/path/to/output.csv\"\n",
    "\n",
    "# Find identical files and calculate Pearson correlation coefficient\n",
    "find_identical_files(folder1_path, folder2_path, folder3_path, output_csv)\n"
   ]
  },
  {
   "cell_type": "code",
   "execution_count": null,
   "id": "3cb33d55-db9b-49f5-bc7e-951b55dfaaf3",
   "metadata": {},
   "outputs": [],
   "source": []
  }
 ],
 "metadata": {
  "kernelspec": {
   "display_name": "Python 3 (ipykernel)",
   "language": "python",
   "name": "python3"
  },
  "language_info": {
   "codemirror_mode": {
    "name": "ipython",
    "version": 3
   },
   "file_extension": ".py",
   "mimetype": "text/x-python",
   "name": "python",
   "nbconvert_exporter": "python",
   "pygments_lexer": "ipython3",
   "version": "3.10.13"
  }
 },
 "nbformat": 4,
 "nbformat_minor": 5
}
